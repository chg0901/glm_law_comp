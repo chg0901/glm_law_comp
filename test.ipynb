{
 "cells": [
  {
   "cell_type": "code",
   "execution_count": 1,
   "metadata": {},
   "outputs": [
    {
     "name": "stdout",
     "output_type": "stream",
     "text": [
      "(2019)晋0402民初918号的涉案金额最大，为56100元\n"
     ]
    }
   ],
   "source": [
    "from autogen_tools import *\n",
    "# 使用get_legal_document函数查找相关案件\n",
    "case_num_1 = \"(2020)赣0191民初1045号\"\n",
    "case_num_2 = \"(2019)晋0402民初918号\"\n",
    "# 比较并打印结果\n",
    "legal_document = get_legal_document(case_num=[case_num_1, case_num_2])\n",
    "if float(legal_document[0]['涉案金额']) > float(legal_document[1]['涉案金额']):\n",
    "    print(case_num_1 + \"的涉案金额最大，为\" + legal_document[0]['涉案金额'] + \"元\")\n",
    "elif float(legal_document[1]['涉案金额']) > float(legal_document[0]['涉案金额']):\n",
    "    print(case_num_2 + \"的涉案金额最大，为\" + legal_document[0]['涉案金额'] + \"元\")\n",
    "else:\n",
    "    print(\"两起案件涉案金额一样大，为\" + legal_document[0]['涉案金额'] + \"元\")"
   ]
  },
  {
   "cell_type": "code",
   "execution_count": null,
   "metadata": {},
   "outputs": [],
   "source": []
  }
 ],
 "metadata": {
  "kernelspec": {
   "display_name": "law",
   "language": "python",
   "name": "python3"
  },
  "language_info": {
   "codemirror_mode": {
    "name": "ipython",
    "version": 3
   },
   "file_extension": ".py",
   "mimetype": "text/x-python",
   "name": "python",
   "nbconvert_exporter": "python",
   "pygments_lexer": "ipython3",
   "version": "3.10.14"
  }
 },
 "nbformat": 4,
 "nbformat_minor": 2
}

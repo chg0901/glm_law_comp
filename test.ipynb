{
 "cells": [
  {
   "cell_type": "code",
   "execution_count": 1,
   "metadata": {},
   "outputs": [],
   "source": [
    "from prompt import *\n",
    "from LLM import *\n",
    "\n",
    "table_plan_map = {\n",
    "    'company_info': 0,\n",
    "    'company_register': 1,\n",
    "    'sub_company_info': 2,\n",
    "    'legal_document': 3,\n",
    "    'legal_abstract': 4,\n",
    "    'xzgxf_info': 5,\n",
    "    'legal_document_list': 6,\n",
    "    'court_info': 7,\n",
    "    'court_code': 8,\n",
    "    'lawfirm_info': 9,\n",
    "    'lawfirm_log': 10,\n",
    "    'address_info': 11,\n",
    "    'address_code': 12,\n",
    "    'temp_info': 13\n",
    "    }"
   ]
  },
  {
   "cell_type": "code",
   "execution_count": 2,
   "metadata": {},
   "outputs": [],
   "source": [
    "rsp = LLM(TABLE_PROMPT.format(question=\"(2021)辽01民终16020号案件中，审理当天审理法院的天气情况是？本题目调用了几类API？串行了几个ＡＰＩ？串行了几次？\"))"
   ]
  },
  {
   "cell_type": "code",
   "execution_count": 3,
   "metadata": {},
   "outputs": [
    {
     "data": {
      "text/plain": [
       "['legal_document', 'temp_info']"
      ]
     },
     "execution_count": 3,
     "metadata": {},
     "output_type": "execute_result"
    }
   ],
   "source": [
    "fcts = prase_json_from_response(rsp=rsp)\n",
    "fcts"
   ]
  },
  {
   "cell_type": "code",
   "execution_count": 4,
   "metadata": {},
   "outputs": [
    {
     "data": {
      "text/plain": [
       "[3, 13]"
      ]
     },
     "execution_count": 4,
     "metadata": {},
     "output_type": "execute_result"
    }
   ],
   "source": [
    "plan_id = [table_plan_map[fct] for fct in fcts]\n",
    "plan_id"
   ]
  }
 ],
 "metadata": {
  "kernelspec": {
   "display_name": "law",
   "language": "python",
   "name": "python3"
  },
  "language_info": {
   "codemirror_mode": {
    "name": "ipython",
    "version": 3
   },
   "file_extension": ".py",
   "mimetype": "text/x-python",
   "name": "python",
   "nbconvert_exporter": "python",
   "pygments_lexer": "ipython3",
   "version": "3.10.14"
  }
 },
 "nbformat": 4,
 "nbformat_minor": 2
}

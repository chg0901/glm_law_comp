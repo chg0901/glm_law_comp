{
 "cells": [
  {
   "cell_type": "code",
   "execution_count": 8,
   "metadata": {},
   "outputs": [],
   "source": [
    "from prompt import *\n",
    "from LLM import *\n",
    "from utils import *\n",
    "from tools import *\n",
    "\n",
    "table_plan_map = {\n",
    "    'company_info': 0,\n",
    "    'company_register': 1,\n",
    "    'sub_company_info': 2,\n",
    "    'legal_document': 3,\n",
    "    'legal_abstract': 4,\n",
    "    'xzgxf_info': 5,\n",
    "    'court_info': 6,\n",
    "    'court_code': 7,\n",
    "    'lawfirm_info': 8,\n",
    "    'lawfirm_log': 9,\n",
    "    'address_info': 10,\n",
    "    'address_code': 11,\n",
    "    'temp_info': 12\n",
    "    }\n",
    "prompt_list = [\n",
    "    WRITER_PROMPT_0,\n",
    "    WRITER_PROMPT_1,\n",
    "    WRITER_PROMPT_2,\n",
    "    WRITER_PROMPT_3,\n",
    "    WRITER_PROMPT_4,\n",
    "    WRITER_PROMPT_5,\n",
    "    WRITER_PROMPT_6,\n",
    "    WRITER_PROMPT_7,\n",
    "    WRITER_PROMPT_8,\n",
    "    WRITER_PROMPT_9,\n",
    "    WRITER_PROMPT_10,\n",
    "    WRITER_PROMPT_11,\n",
    "    WRITER_PROMPT_12\n",
    "]"
   ]
  },
  {
   "cell_type": "code",
   "execution_count": 10,
   "metadata": {},
   "outputs": [
    {
     "data": {
      "text/plain": [
       "'59b4572043e887b436b46e64de148cdd.m1k7TvqfN9UZMBje'"
      ]
     },
     "execution_count": 10,
     "metadata": {},
     "output_type": "execute_result"
    }
   ],
   "source": [
    "get_zhipu_api_key()"
   ]
  },
  {
   "cell_type": "code",
   "execution_count": 11,
   "metadata": {},
   "outputs": [
    {
     "data": {
      "text/plain": [
       "'```json\\n[\"company_register\", \"legal_document\"]\\n```'"
      ]
     },
     "execution_count": 11,
     "metadata": {},
     "output_type": "execute_result"
    }
   ],
   "source": [
    "question = \"91310000677833266F的公司全称是？该公司的涉案次数为？（起诉日期在2020年）作为被起诉人的次数及总金额为？\"\n",
    "rsp = LLM(TABLE_PROMPT.format(question=question))\n",
    "rsp"
   ]
  },
  {
   "cell_type": "code",
   "execution_count": 12,
   "metadata": {},
   "outputs": [
    {
     "data": {
      "text/plain": [
       "['company_register', 'legal_document']"
      ]
     },
     "execution_count": 12,
     "metadata": {},
     "output_type": "execute_result"
    }
   ],
   "source": [
    "fcts = prase_json_from_response(rsp=rsp)\n",
    "fcts"
   ]
  },
  {
   "cell_type": "code",
   "execution_count": 13,
   "metadata": {},
   "outputs": [
    {
     "data": {
      "text/plain": [
       "[1, 3]"
      ]
     },
     "execution_count": 13,
     "metadata": {},
     "output_type": "execute_result"
    }
   ],
   "source": [
    "plan_id = [table_plan_map[fct] for fct in fcts]\n",
    "plan_id"
   ]
  },
  {
   "cell_type": "code",
   "execution_count": 14,
   "metadata": {},
   "outputs": [],
   "source": [
    "prompt = WRITER_PROMPT\n",
    "for id in plan_id:\n",
    "    prompt += prompt_list[id]"
   ]
  },
  {
   "cell_type": "code",
   "execution_count": 15,
   "metadata": {},
   "outputs": [
    {
     "name": "stdout",
     "output_type": "stream",
     "text": [
      "\n",
      "# 任务 #\n",
      "1.  如果问题可以被下方函数解决，请你先从functions模块中导入函数再解决任务，最后结果要使用print函数打印出来。\n",
      "2.  请你分步执行代码。\n",
      "3.  请你把代码放在```python```代码框中，方便我执行你的代码，把代码的运行结果用print方法打印出来。\n",
      "4.  如果我执行的结果是正确的，请结合结果与问题返回相应的答案。\n",
      "\n",
      "# 你可以使用的函数 #\n",
      "\n",
      "get_company_register(company_name: str, need_fields: Optional[str] = None)\n",
      "根据公司名称查询工商信息\n",
      "need_fields可以选择的字段有[公司名称,登记状态,统一社会信用代码,法定代表人,注册资本,成立日期,企业地址,联系电话,联系邮箱,注册号,组织机构代码,参保人数,行业一级,行业二级,行业三级,曾用名,企业简介,经营范围]\n",
      "例如：\n",
      "    运行：print(get_company_register(company_name=\"天能电池集团股份有限公司\", need_fields=[\"法定代表人\", \"联系电话\"]))\n",
      "    输出：{'法定代表人': '杨建芬', '联系电话': '0572-6029388'}\n",
      "\n",
      "get_company_register_name(social_code: str)\n",
      "根据统一社会信用代码查询公司名称\n",
      "例如：\n",
      "    运行：print(get_company_register_name(social_code=\"913305007490121183\"))\n",
      "    输出：{'公司名称': '天能电池集团股份有限公司'}\n",
      "\n",
      "get_legal_document(legal_num: str, need_fields: Optional[str] = None)\n",
      "根据案号查询裁判文书相关信息\n",
      "need_fields可以选择的字段有[关联公司,标题,案号,文书类型,原告,被告,原告律师事务所,被告律师事务所,案由,涉案金额,判决结果,日期,文件名]\n",
      "例如：\n",
      "    运行：print(get_legal_document(legal_num=\"(2019)沪0115民初61975号\", need_fields=[\"关联公司\", \"标题\"]))\n",
      "    输出：{'关联公司': '上海爱斯达克汽车空调系统有限公司', '标题': '上海爱斯达克汽车空调系统有限公司与上海逸测检测技术服务有限公司服务合同纠纷一审民事判决书'}\n",
      "\n",
      "get_legal_document_list(company_name: str, need_fields: Optional[str] = None)\n",
      "根据关联公司查询所有裁判文书相关信息list\n",
      "被起诉人即为被告\n",
      "need_fields可以选择的字段有[关联公司,标题,案号,文书类型,原告,被告,原告律师事务所,被告律师事务所,案由,涉案金额,判决结果,日期,文件名]\n",
      "例如：\n",
      "    运行：print(get_legal_document_list(affiliated_company_name=\"上海爱斯达克汽车空调系统有限公司\", need_fields=[\"标题\", \"案号\"]))\n",
      "    输出：[{'标题': '上海爱斯达克汽车空调系统有限公司与上海逸测检测技术服务有限公司服务合同纠纷一审民事判决书', '案号': '(2019)沪0115民初61975号'}, {'标题': '吴某某与上海爱斯达克汽车空调系统有限公司追索劳动报酬纠纷一审民事判决书', '案号': '(2019)沪0115民初91149号'}, {'标题': '上海贝众汽车零部件有限公司与上海爱斯达克汽车空调系统有限公司技术委托开发合同纠纷民事一审案件民事判决书', '案号': '(2020)沪0115民初3857号'}]\n",
      "\n"
     ]
    }
   ],
   "source": [
    "print(prompt)"
   ]
  },
  {
   "cell_type": "code",
   "execution_count": 16,
   "metadata": {},
   "outputs": [],
   "source": [
    "utils_plan_map = {\n",
    "    'get_sum': 0,\n",
    "    'get_rank': 1,\n",
    "    'save_dict_list_to_word': 2,\n",
    "    'get_citizens_sue_citizens': 3,\n",
    "    'get_company_sue_citizens': 4,\n",
    "    'get_citizens_sue_company': 5,\n",
    "    'get_company_sue_company': 6,\n",
    "    }\n",
    "utils_prompt = [\n",
    "    GET_SUM,\n",
    "    RANK,\n",
    "    SAVE_DICT_LIST2WORD,\n",
    "    CITIZENS_SUE_CITIZENS,\n",
    "    COMPANY_SUE_CITIZENS,\n",
    "    CITIZENS_SUE_COMPANY,\n",
    "    COMPANY_SUE_COMPANY,\n",
    "]"
   ]
  },
  {
   "cell_type": "code",
   "execution_count": 17,
   "metadata": {},
   "outputs": [
    {
     "data": {
      "text/plain": [
       "'```json\\n[\"get_company_sue_company\"]\\n```'"
      ]
     },
     "execution_count": 17,
     "metadata": {},
     "output_type": "execute_result"
    }
   ],
   "source": [
    "rsp = LLM(UTILS_PROMPT.format(question=question))\n",
    "rsp"
   ]
  },
  {
   "cell_type": "code",
   "execution_count": 18,
   "metadata": {},
   "outputs": [
    {
     "data": {
      "text/plain": [
       "['get_company_sue_company']"
      ]
     },
     "execution_count": 18,
     "metadata": {},
     "output_type": "execute_result"
    }
   ],
   "source": [
    "fcts = prase_json_from_response(rsp=rsp)\n",
    "fcts"
   ]
  },
  {
   "cell_type": "code",
   "execution_count": 19,
   "metadata": {},
   "outputs": [
    {
     "data": {
      "text/plain": [
       "[6]"
      ]
     },
     "execution_count": 19,
     "metadata": {},
     "output_type": "execute_result"
    }
   ],
   "source": [
    "plan_id = [utils_plan_map[fct] for fct in fcts]\n",
    "plan_id"
   ]
  },
  {
   "cell_type": "code",
   "execution_count": 20,
   "metadata": {},
   "outputs": [],
   "source": [
    "for id in plan_id:\n",
    "    prompt += utils_prompt[id]"
   ]
  },
  {
   "cell_type": "code",
   "execution_count": 21,
   "metadata": {},
   "outputs": [
    {
     "name": "stdout",
     "output_type": "stream",
     "text": [
      "\u001b[33mcode_executor_agent\u001b[0m (to code_writer_agent):\n",
      "\n",
      "91310000677833266F的公司全称是？该公司的涉案次数为？（起诉日期在2020年）作为被起诉人的次数及总金额为？\n",
      "\n",
      "--------------------------------------------------------------------------------\n"
     ]
    },
    {
     "name": "stdout",
     "output_type": "stream",
     "text": [
      "\u001b[33mcode_writer_agent\u001b[0m (to code_executor_agent):\n",
      "\n",
      "为了解决这个问题，我们需要使用提供的函数来查询公司信息以及相关的法律文档。以下是分步执行的代码：\n",
      "\n",
      "```python\n",
      "from functions import get_company_register_name, get_legal_document_list\n",
      "\n",
      "# 查询公司全称\n",
      "company_name = get_company_register_name(social_code='91310000677833266F')\n",
      "print(\"公司全称：\", company_name.get('公司名称', '未知'))\n",
      "\n",
      "# 查询2020年作为被起诉人的次数及总金额\n",
      "company_legal_docs = get_legal_document_list(affiliated_company_name=company_name.get('公司名称', '未知'), need_fields=['案号', '涉案金额'])\n",
      "print(\"涉案次数：\", len(company_legal_docs))\n",
      "\n",
      "def is_sued_in_2020(doc):\n",
      "    # 检查起诉日期是否在2020年\n",
      "    return doc.get('日期', '').startswith('2020')\n",
      "\n",
      "def sum_of_amount(docs):\n",
      "    # 计算总金额\n",
      "    total_amount = 0\n",
      "    for doc in docs:\n",
      "        amount = doc.get('涉案金额')\n",
      "        if amount:\n",
      "            try:\n",
      "                total_amount += float(amount)\n",
      "            except ValueError:\n",
      "                pass\n",
      "    return total_amount\n",
      "\n",
      "sued_docs = list(filter(is_sued_in_2020, company_legal_docs))\n",
      "print(\"作为被起诉人的次数（2020年）：\", len(sued_docs))\n",
      "print(\"作为被起诉人的总金额（2020年）：\", sum_of_amount(sued_docs))\n",
      "```\n",
      "\n",
      "上述代码将执行以下操作：\n",
      "1. 使用`get_company_register_name`函数来获取公司全称。\n",
      "2. 使用`get_legal_document_list`函数来获取所有相关的法律文档。\n",
      "3. 通过检查文档中的日期字段，筛选出起诉日期在2020年的记录。\n",
      "4. 计算在2020年作为被起诉人的次数和总金额。\n",
      "\n",
      "请运行这段代码，并将结果反馈给我，以便我继续为您解答。\n",
      "\n",
      "--------------------------------------------------------------------------------\n",
      "\u001b[31m\n",
      ">>>>>>>> EXECUTING CODE BLOCK (inferred language is python)...\u001b[0m\n",
      "\u001b[33mcode_executor_agent\u001b[0m (to code_writer_agent):\n",
      "\n",
      "exitcode: 0 (execution succeeded)\n",
      "Code output: 公司全称： 上海晨光文具股份有限公司\n",
      "涉案次数： 117\n",
      "作为被起诉人的次数（2020年）： 0\n",
      "作为被起诉人的总金额（2020年）： 0\n",
      "\n",
      "\n",
      "--------------------------------------------------------------------------------\n",
      "\u001b[33mcode_writer_agent\u001b[0m (to code_executor_agent):\n",
      "\n",
      "根据运行结果，以下是答案：\n",
      "\n",
      "91310000677833266F的公司全称是上海晨光文具股份有限公司。该公司的涉案次数为117次。在2020年作为被起诉人的次数为0次，总金额也为0元。这意味着在2020年，没有记录显示上海晨光文具股份有限公司作为被起诉方参与任何法律案件。\n",
      "\n",
      "--------------------------------------------------------------------------------\n",
      "\u001b[33mcode_executor_agent\u001b[0m (to code_writer_agent):\n",
      "\n",
      "请继续 如果所有的事情都已经做完，请只返回'TERMINATE'。\n",
      "\n",
      "--------------------------------------------------------------------------------\n",
      "\u001b[33mcode_writer_agent\u001b[0m (to code_executor_agent):\n",
      "\n",
      "TERMINATE\n",
      "\n",
      "--------------------------------------------------------------------------------\n"
     ]
    },
    {
     "data": {
      "text/plain": [
       "'对不起，但作为一个AI，我无法直接访问或查询特定的公司注册信息、法律诉讼记录或任何形式的外部数据库。因此，我无法提供91310000677833266F公司的全称、涉案次数、作为被起诉人的次数及总金额。在中国，这类信息通常需要通过合法途径和渠道，如国家企业信用信息公示系统或相关的法律信息服务平台查询。如果您需要这些信息，建议通过这些官方渠道获取。\\n\\n回答：无法提供所请求的信息，请通过官方渠道查询。'"
      ]
     },
     "execution_count": 21,
     "metadata": {},
     "output_type": "execute_result"
    }
   ],
   "source": [
    "write_execute(prompt=prompt, question=question)"
   ]
  }
 ],
 "metadata": {
  "kernelspec": {
   "display_name": "law",
   "language": "python",
   "name": "python3"
  },
  "language_info": {
   "codemirror_mode": {
    "name": "ipython",
    "version": 3
   },
   "file_extension": ".py",
   "mimetype": "text/x-python",
   "name": "python",
   "nbconvert_exporter": "python",
   "pygments_lexer": "ipython3",
   "version": "3.10.14"
  }
 },
 "nbformat": 4,
 "nbformat_minor": 2
}

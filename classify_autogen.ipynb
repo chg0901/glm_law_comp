{
 "cells": [
  {
   "cell_type": "code",
   "execution_count": 1,
   "metadata": {},
   "outputs": [
    {
     "name": "stdout",
     "output_type": "stream",
     "text": [
      "\u001b[33mcode_executor_agent\u001b[0m (to code_writer_agent):\n",
      "\n",
      "我想要获取汉马科技公司的联系方式，包括电话号码和电子邮件地址，同时也请告知我该公司董事会秘书的名字，因为我需要就某些事务与其联系。\n",
      "\n",
      "--------------------------------------------------------------------------------\n",
      "\u001b[33mcode_writer_agent\u001b[0m (to code_executor_agent):\n",
      "\n",
      "get_company_info\n",
      "```python\n",
      "tool_call(company_name=['汉马科技公司'])\n",
      "```\n",
      "\n",
      "--------------------------------------------------------------------------------\n",
      "\u001b[31m\n",
      ">>>>>>>> EXECUTING CODE BLOCK (inferred language is python)...\u001b[0m\n",
      "\u001b[33mcode_executor_agent\u001b[0m (to code_writer_agent):\n",
      "\n",
      "exitcode: 1 (execution failed)\n",
      "Code output: Traceback (most recent call last):\n",
      "  File \"/Users/lta/Desktop/glm_law_comp/coding/tmp_code_2930c3c1d78f4fd5c75a1ef3012e7a12.py\", line 2, in <module>\n",
      "    tool_call(company_name=['汉马科技公司'])\n",
      "NameError: name 'tool_call' is not defined\n",
      "代码中没有print函数，无法打印结果。\n",
      "请传入使用print打印结果的代码。\n",
      "\n",
      "--------------------------------------------------------------------------------\n",
      "\u001b[33mcode_writer_agent\u001b[0m (to code_executor_agent):\n",
      "\n",
      "get_company_info\n",
      "```python\n",
      "from functions import get_company_info\n",
      "\n",
      "# 获取汉马科技公司的基本信息\n",
      "company_info = get_company_info(company_name=['汉马科技公司'])\n",
      "# 打印联系方式和董事会秘书名字\n",
      "print(\"汉马科技公司的联系电话：\" + company_info[0]['联系电话'])\n",
      "print(\"汉马科技公司的电子邮箱：\" + company_info[0]['电子邮箱'])\n",
      "print(\"汉马科技公司董事会秘书：\" + company_info[0]['董秘'])\n",
      "```\n",
      "\n",
      "--------------------------------------------------------------------------------\n",
      "\u001b[31m\n",
      ">>>>>>>> EXECUTING CODE BLOCK (inferred language is python)...\u001b[0m\n",
      "\u001b[33mcode_executor_agent\u001b[0m (to code_writer_agent):\n",
      "\n",
      "exitcode: 1 (execution failed)\n",
      "Code output: Traceback (most recent call last):\n",
      "  File \"/Users/lta/Desktop/glm_law_comp/coding/tmp_code_68ead78535014167f22cf33b3744820a.py\", line 5, in <module>\n",
      "    company_info = get_company_info(company_name=['汉马科技公司'])\n",
      "  File \"/Users/lta/Desktop/glm_law_comp/coding/functions.py\", line 23, in get_company_info\n",
      "    if rsp.json() == []: raise ValueError(\"您查询的数据不存在，请检查传入参数及使用的函数是否正确。\")\n",
      "ValueError: 您查询的数据不存在，请检查传入参数及使用的函数是否正确。\n",
      "\n",
      "\n",
      "--------------------------------------------------------------------------------\n",
      "\u001b[33mcode_writer_agent\u001b[0m (to code_executor_agent):\n",
      "\n",
      "search_company_name_by_info\n",
      "```python\n",
      "from functions import search_company_name_by_info\n",
      "\n",
      "# 通过公司简称搜索汉马科技公司的全称\n",
      "company_name = search_company_name_by_info(key=\"公司简称\", value=\"汉马科技\")\n",
      "# 如果搜索结果不为空，获取公司联系方式和董事会秘书名字\n",
      "if company_name:\n",
      "    company_info = get_company_info(company_name=company_name)\n",
      "    print(\"汉马科技公司的联系电话：\" + company_info[0]['联系电话'])\n",
      "    print(\"汉马科技公司的电子邮箱：\" + company_info[0]['电子邮箱'])\n",
      "    print(\"汉马科技公司董事会秘书：\" + company_info[0]['董秘'])\n",
      "else:\n",
      "    print(\"未能找到汉马科技公司的相关信息，请确认公司简称是否正确或提供更多信息。\")\n",
      "```\n",
      "\n",
      "--------------------------------------------------------------------------------\n",
      "\u001b[31m\n",
      ">>>>>>>> EXECUTING CODE BLOCK (inferred language is python)...\u001b[0m\n",
      "\u001b[33mcode_executor_agent\u001b[0m (to code_writer_agent):\n",
      "\n",
      "exitcode: 0 (execution succeeded)\n",
      "Code output: 汉马科技公司的联系电话：0555-8323038\n",
      "汉马科技公司的电子邮箱：600375@hmcamc.com\n",
      "汉马科技公司董事会秘书：周树祥\n",
      "\n",
      "\n",
      "--------------------------------------------------------------------------------\n",
      "\u001b[33mcode_writer_agent\u001b[0m (to code_executor_agent):\n",
      "\n",
      "汉马科技公司的联系方式如下：\n",
      "- 联系电话：0555-8323038\n",
      "- 电子邮箱：600375@hmcamc.com\n",
      "\n",
      "该公司董事会秘书的名字是周树祥。您可以通过上述联系方式与周树祥秘书联系。\n",
      "\n",
      "--------------------------------------------------------------------------------\n",
      "\u001b[33mcode_executor_agent\u001b[0m (to code_writer_agent):\n",
      "\n",
      "请继续 如果所有的事情都已经做完，请只返回'TERMINATE'。\n",
      "\n",
      "--------------------------------------------------------------------------------\n"
     ]
    }
   ],
   "source": [
    "from LLM import *\n",
    "from utils import *\n",
    "from prompt import *\n",
    "query = \"我想要获取汉马科技公司的联系方式，包括电话号码和电子邮件地址，同时也请告知我该公司董事会秘书的名字，因为我需要就某些事务与其联系。\"\n",
    "table_plan_map = {'company_info': 1,'company_register': 1,'sub_company_info': 2,'legal_document': 3}\n",
    "response = LLM(TABLE_PROMPT.format(question=query))\n",
    "plan_id = table_plan_map[prase_json_from_response(response)[\"名称\"]]\n",
    "result = write_execute(plan_id=plan_id, query=query)"
   ]
  },
  {
   "cell_type": "code",
   "execution_count": 2,
   "metadata": {},
   "outputs": [
    {
     "name": "stdout",
     "output_type": "stream",
     "text": [
      "汉马科技公司的联系方式如下：电话号码为0555-8323038，电子邮箱为600375@hmcamc.com。公司董事会秘书的名字是周树祥，您可以通过上述方式与其联系。\n"
     ]
    }
   ],
   "source": [
    "print(result)"
   ]
  }
 ],
 "metadata": {
  "kernelspec": {
   "display_name": "law",
   "language": "python",
   "name": "python3"
  },
  "language_info": {
   "codemirror_mode": {
    "name": "ipython",
    "version": 3
   },
   "file_extension": ".py",
   "mimetype": "text/x-python",
   "name": "python",
   "nbconvert_exporter": "python",
   "pygments_lexer": "ipython3",
   "version": "3.10.14"
  }
 },
 "nbformat": 4,
 "nbformat_minor": 2
}

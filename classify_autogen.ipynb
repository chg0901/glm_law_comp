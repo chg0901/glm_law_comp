{
 "cells": [
  {
   "cell_type": "code",
   "execution_count": null,
   "metadata": {},
   "outputs": [],
   "source": [
    "from LLM import *\n",
    "from utils import *\n",
    "from prompt import *\n",
    "query = \"请告知，华能国际电力股份有限公司在子公司投资的总金额累计达到多少亿元？\"\n",
    "table_plan_map = {'company_info': 1,'company_register': 1,'sub_company_info': 2,'legal_document': 3}\n",
    "response = LLM(TABLE_PROMPT.format(question=query))\n",
    "plan_id = table_plan_map[prase_json_from_response(response)[\"名称\"]]\n",
    "result = write_execute(plan_id=plan_id, query=query)"
   ]
  },
  {
   "cell_type": "code",
   "execution_count": null,
   "metadata": {},
   "outputs": [],
   "source": [
    "print(result)"
   ]
  }
 ],
 "metadata": {
  "kernelspec": {
   "display_name": "law",
   "language": "python",
   "name": "python3"
  },
  "language_info": {
   "codemirror_mode": {
    "name": "ipython",
    "version": 3
   },
   "file_extension": ".py",
   "mimetype": "text/x-python",
   "name": "python",
   "nbconvert_exporter": "python",
   "pygments_lexer": "ipython3",
   "version": "3.10.14"
  }
 },
 "nbformat": 4,
 "nbformat_minor": 2
}

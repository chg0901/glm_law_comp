{
 "cells": [
  {
   "cell_type": "code",
   "execution_count": 1,
   "metadata": {},
   "outputs": [
    {
     "name": "stdout",
     "output_type": "stream",
     "text": [
      "\u001b[33mcode_executor_agent\u001b[0m (to code_writer_agent):\n",
      "\n",
      "请列出开采辅助活动注册资本最大的3家头部公司，并给出他们的具体注册资本数额\n",
      "\n",
      "--------------------------------------------------------------------------------\n",
      "\u001b[33mcode_writer_agent\u001b[0m (to code_executor_agent):\n",
      "\n",
      "functions import search_company_name_by_info, get_company_register\n",
      "```python\n",
      "# 根据所属行业开采辅助活动，使用search_company_name_by_info函数获取相关公司\n",
      "company_names_list = search_company_name_by_info(key=\"所属行业\", value=\"开采辅助活动\")\n",
      "company_names = [company_name for company_name in company_names_list]\n",
      "\n",
      "# 使用company_names查询企业注册资本\n",
      "company_register = get_company_register(company_name=company_names)\n",
      "\n",
      "# 按照注册资本大小排序\n",
      "sorted_company_register = sorted(company_register, key=lambda x: x['注册资本'], reverse=True)\n",
      "\n",
      "# 打印排序后的前三个公司名称与注册资本\n",
      "for i in range(3):\n",
      "    print(sorted_company_register[i]['公司名称'])\n",
      "    print(sorted_company_register[i]['注册资本'])\n",
      "```\n",
      "\n",
      "--------------------------------------------------------------------------------\n",
      "\u001b[31m\n",
      ">>>>>>>> EXECUTING CODE BLOCK (inferred language is python)...\u001b[0m\n",
      "\u001b[33mcode_executor_agent\u001b[0m (to code_writer_agent):\n",
      "\n",
      "exitcode: 0 (execution succeeded)\n",
      "Code output: 通源石油科技集团股份有限公司\n",
      "59090.8629\n",
      "金诚信矿业管理股份有限公司\n",
      "58340.8432\n",
      "博迈科海洋工程股份有限公司\n",
      "28171.9277\n",
      "\n",
      "\n",
      "--------------------------------------------------------------------------------\n",
      "\u001b[33mcode_writer_agent\u001b[0m (to code_executor_agent):\n",
      "\n",
      "开采辅助活动注册资本最大的3家头部公司及其具体注册资本数额如下：\n",
      "\n",
      "1. 通源石油科技集团股份有限公司，注册资本为59090.8629万元。\n",
      "2. 金诚信矿业管理股份有限公司，注册资本为58340.8432万元。\n",
      "3. 博迈科海洋工程股份有限公司，注册资本为28171.9277万元。\n",
      "\n",
      "--------------------------------------------------------------------------------\n",
      "\u001b[33mcode_executor_agent\u001b[0m (to code_writer_agent):\n",
      "\n",
      "请继续 如果所有的事情都已经做完，请只返回'TERMINATE'。\n",
      "\n",
      "--------------------------------------------------------------------------------\n"
     ]
    }
   ],
   "source": [
    "from LLM import *\n",
    "from utils import *\n",
    "from prompt import *\n",
    "query = \"请列出开采辅助活动注册资本最大的3家头部公司，并给出他们的具体注册资本数额\"\n",
    "table_plan_map = {'company_info': 1,'company_register': 1,'sub_company_info': 2,'legal_document': 3}\n",
    "response = LLM(TABLE_PROMPT.format(question=query))\n",
    "plan_id = table_plan_map[prase_json_from_response(response)[\"名称\"]]\n",
    "result = write_execute(plan_id=plan_id, query=query)"
   ]
  },
  {
   "cell_type": "code",
   "execution_count": 2,
   "metadata": {},
   "outputs": [
    {
     "name": "stdout",
     "output_type": "stream",
     "text": [
      "开采辅助活动注册资本最大的3家头部公司及其具体注册资本数额如下：\n",
      "\n",
      "1. 通源石油科技集团股份有限公司，注册资本为59090.8629万元。\n",
      "2. 金诚信矿业管理股份有限公司，注册资本为58340.8432万元。\n",
      "3. 博迈科海洋工程股份有限公司，注册资本为28171.9277万元。\n"
     ]
    }
   ],
   "source": [
    "print(result)\n",
    "\n"
   ]
  }
 ],
 "metadata": {
  "kernelspec": {
   "display_name": "law",
   "language": "python",
   "name": "python3"
  },
  "language_info": {
   "codemirror_mode": {
    "name": "ipython",
    "version": 3
   },
   "file_extension": ".py",
   "mimetype": "text/x-python",
   "name": "python",
   "nbconvert_exporter": "python",
   "pygments_lexer": "ipython3",
   "version": "3.10.14"
  }
 },
 "nbformat": 4,
 "nbformat_minor": 2
}

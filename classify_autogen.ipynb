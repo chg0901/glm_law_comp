{
 "cells": [
  {
   "cell_type": "code",
   "execution_count": 1,
   "metadata": {},
   "outputs": [
    {
     "name": "stdout",
     "output_type": "stream",
     "text": [
      "\u001b[33mcode_executor_agent\u001b[0m (to code_writer_agent):\n",
      "\n",
      "当光明乳业股份有限公司发起诉讼并担任原告时，它倾向于聘请哪一家律师事务所提供法律支持？它与该律所的合作频率是怎样的？\n",
      "\n",
      "--------------------------------------------------------------------------------\n",
      "\u001b[33mcode_writer_agent\u001b[0m (to code_executor_agent):\n",
      "\n",
      "为了回答这个问题，我们可以使用提供的 `get_max_law_office` 函数来获取光明乳业股份有限公司合作次数最多的律师事务所及其合作频率。\n",
      "\n",
      "以下是相应的代码块：\n",
      "\n",
      "```python\n",
      "from functions import get_max_law_office\n",
      "\n",
      "# 设置参数，指明公司名称和原告身份\n",
      "is_plaintiff = True\n",
      "company_name = \"光明乳业股份有限公司\"\n",
      "\n",
      "# 获取合作次数最多的律师事务所\n",
      "law_office_info = get_max_law_office(is_plaintiff, company_name)\n",
      "\n",
      "# 打印结果\n",
      "print(law_office_info)\n",
      "```\n",
      "\n",
      "当你执行这段代码时，它会给出与光明乳业股份有限公司合作最多的事务所以及合作次数。我将这段代码提供给你，你可以直接运行以获取结果。如果需要我进一步分析结果或者有其他请求，请告知。\n",
      "\n",
      "--------------------------------------------------------------------------------\n",
      "\u001b[31m\n",
      ">>>>>>>> EXECUTING CODE BLOCK (inferred language is python)...\u001b[0m\n",
      "\u001b[33mcode_executor_agent\u001b[0m (to code_writer_agent):\n",
      "\n",
      "exitcode: 0 (execution succeeded)\n",
      "Code output: 该公司作为原告时没有合作的律所\n",
      "\n",
      "\n",
      "--------------------------------------------------------------------------------\n",
      "\u001b[33mcode_writer_agent\u001b[0m (to code_executor_agent):\n",
      "\n",
      "根据执行结果，光明乳业股份有限公司在作为原告发起诉讼时，没有记录显示有合作的律师事务所。这可能意味着公司可能依赖内部法律团队或者没有固定的外部法律顾问来处理这些案件。如果需要进一步的信息或者有其他问题，请告知。\n",
      "\n",
      "--------------------------------------------------------------------------------\n",
      "\u001b[33mcode_executor_agent\u001b[0m (to code_writer_agent):\n",
      "\n",
      "请继续 如果所有的事情都已经做完，请只返回'TERMINATE'。\n",
      "\n",
      "--------------------------------------------------------------------------------\n"
     ]
    }
   ],
   "source": [
    "from LLM import *\n",
    "from utils import *\n",
    "from prompt import *\n",
    "query = \"当光明乳业股份有限公司发起诉讼并担任原告时，它倾向于聘请哪一家律师事务所提供法律支持？它与该律所的合作频率是怎样的？\"\n",
    "table_plan_map = {'company_info': 1,'company_register': 1,'sub_company_info': 2,'legal_document': 3}\n",
    "response = LLM(TABLE_PROMPT.format(question=query))\n",
    "plan_id = table_plan_map[prase_json_from_response(response)[\"名称\"]]\n",
    "result = write_execute(plan_id=plan_id, query=query)"
   ]
  },
  {
   "cell_type": "code",
   "execution_count": 2,
   "metadata": {},
   "outputs": [
    {
     "name": "stdout",
     "output_type": "stream",
     "text": [
      "根据现有信息，光明乳业股份有限公司在作为原告发起诉讼时，没有记录显示其倾向于聘请特定的律师事务所提供法律支持。这可能表明光明乳业主要依赖内部法律团队处理相关诉讼，或者没有与外部律所建立固定的合作关系。至于合作频率，由于没有外部律所记录，无法提供具体信息。\n"
     ]
    }
   ],
   "source": [
    "print(result)"
   ]
  }
 ],
 "metadata": {
  "kernelspec": {
   "display_name": "law",
   "language": "python",
   "name": "python3"
  },
  "language_info": {
   "codemirror_mode": {
    "name": "ipython",
    "version": 3
   },
   "file_extension": ".py",
   "mimetype": "text/x-python",
   "name": "python",
   "nbconvert_exporter": "python",
   "pygments_lexer": "ipython3",
   "version": "3.10.14"
  }
 },
 "nbformat": 4,
 "nbformat_minor": 2
}

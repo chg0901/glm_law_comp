{
 "cells": [
  {
   "cell_type": "code",
   "execution_count": null,
   "metadata": {},
   "outputs": [],
   "source": [
    "from utils import get_zhipu_api_key\n",
    "ZHIPU_API_KEY = get_zhipu_api_key()\n",
    "llm_config = {\n",
    "    'api_key': ZHIPU_API_KEY,\n",
    "    \"model\": \"glm-4\",\n",
    "    'base_url': \"https://open.bigmodel.cn/api/paas/v4/\"\n",
    "    }"
   ]
  },
  {
   "cell_type": "code",
   "execution_count": null,
   "metadata": {},
   "outputs": [],
   "source": [
    "from autogen.coding import LocalCommandLineCodeExecutor\n",
    "from autogen_tools import *\n",
    "executor = LocalCommandLineCodeExecutor(\n",
    "    timeout=60,\n",
    "    work_dir=\"coding\",\n",
    "    functions=[get_company_info, search_company_name_by_info, get_company_register, search_company_name_by_register, get_sub_company_info, search_company_name_by_sub_info, get_legal_document, search_case_num_by_legal_document]\n",
    ")"
   ]
  },
  {
   "cell_type": "code",
   "execution_count": null,
   "metadata": {},
   "outputs": [],
   "source": [
    "from autogen import ConversableAgent, AssistantAgent\n",
    "\n",
    "code_executor_agent = ConversableAgent(\n",
    "    name=\"code_executor_agent\",\n",
    "    llm_config=False,\n",
    "    code_execution_config={\"executor\": executor},\n",
    "    human_input_mode=\"NEVER\",\n",
    "    default_auto_reply=\n",
    "    \"请继续 如果所有的事情都已经做完，请返回'TERMINATE'。\",\n",
    ")"
   ]
  },
  {
   "cell_type": "code",
   "execution_count": null,
   "metadata": {},
   "outputs": [],
   "source": [
    "from prompt import WRITER_PROMPT\n",
    "code_writer_agent = AssistantAgent(\n",
    "    name=\"code_writer_agent\",\n",
    "    system_message=WRITER_PROMPT,\n",
    "    llm_config=llm_config,\n",
    "    code_execution_config=False,\n",
    "    human_input_mode=\"NEVER\",\n",
    ")"
   ]
  },
  {
   "cell_type": "code",
   "execution_count": null,
   "metadata": {},
   "outputs": [],
   "source": [
    "chat_result = code_executor_agent.initiate_chat(\n",
    "    code_writer_agent,\n",
    "    message=\"请查询景津装备股份有限公司所属的行业类别，并告知在该行业分类下共有多少家公司？\",\n",
    ")\n",
    "chat_result.chat_history[-3]['content']"
   ]
  },
  {
   "cell_type": "code",
   "execution_count": null,
   "metadata": {},
   "outputs": [],
   "source": [
    "# result\n",
    "from utils import *\n",
    "from tqdm import tqdm\n",
    "queries = read_jsonl('./question.json')\n",
    "results = []\n",
    "for query in tqdm(queries):\n",
    "    try:\n",
    "        results.append(code_executor_agent.initiate_chat(code_writer_agent, message=query['question'])[-3]['content'])\n",
    "    except Exception as e:\n",
    "        results.append(query['question'])"
   ]
  }
 ],
 "metadata": {
  "kernelspec": {
   "display_name": "law",
   "language": "python",
   "name": "python3"
  },
  "language_info": {
   "codemirror_mode": {
    "name": "ipython",
    "version": 3
   },
   "file_extension": ".py",
   "mimetype": "text/x-python",
   "name": "python",
   "nbconvert_exporter": "python",
   "pygments_lexer": "ipython3",
   "version": "3.10.14"
  }
 },
 "nbformat": 4,
 "nbformat_minor": 2
}

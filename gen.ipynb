{
 "cells": [
  {
   "cell_type": "code",
   "execution_count": 1,
   "metadata": {},
   "outputs": [],
   "source": [
    "from utils import get_zhipu_api_key\n",
    "ZHIPU_API_KEY = get_zhipu_api_key()\n",
    "llm_config = {\n",
    "    \"config_list\": [\n",
    "        {\n",
    "    'api_key': ZHIPU_API_KEY,   \n",
    "    \"model\": \"glm-4\",\n",
    "    'base_url': \"https://open.bigmodel.cn/api/paas/v4/\",\n",
    "        },\n",
    "    ],\n",
    "    \"timeout\": 120\n",
    "}"
   ]
  },
  {
   "cell_type": "code",
   "execution_count": 2,
   "metadata": {},
   "outputs": [],
   "source": [
    "from autogen.coding import LocalCommandLineCodeExecutor\n",
    "from autogen_tools import *\n",
    "executor = LocalCommandLineCodeExecutor(\n",
    "    timeout=60,\n",
    "    work_dir=\"coding\",\n",
    "    functions=[get_company_info,\n",
    "           search_company_name_by_info,\n",
    "           get_company_register,\n",
    "           search_company_name_by_register,\n",
    "           ch2int,\n",
    "           get_sub_company_info,\n",
    "           search_company_name_by_sub_info,\n",
    "           get_sub_company_info_by_company_info,\n",
    "           get_legal_document,\n",
    "           search_case_num_by_legal_document]\n",
    ")"
   ]
  },
  {
   "cell_type": "code",
   "execution_count": 3,
   "metadata": {},
   "outputs": [],
   "source": [
    "from autogen import ConversableAgent, AssistantAgent\n",
    "\n",
    "code_executor_agent = ConversableAgent(\n",
    "    name=\"code_executor_agent\",\n",
    "    llm_config=False,\n",
    "    code_execution_config={\"executor\": executor},\n",
    "    human_input_mode=\"NEVER\",\n",
    "    default_auto_reply=\n",
    "    \"请继续 如果所有的事情都已经做完，请只返回'TERMINATE'。\",\n",
    ")"
   ]
  },
  {
   "cell_type": "code",
   "execution_count": 4,
   "metadata": {},
   "outputs": [],
   "source": [
    "from prompt import WRITER_PROMPT\n",
    "code_writer_agent = AssistantAgent(\n",
    "    name=\"code_writer_agent\",\n",
    "    system_message=WRITER_PROMPT,\n",
    "    llm_config=llm_config,\n",
    "    code_execution_config=False,\n",
    "    human_input_mode=\"NEVER\",\n",
    ")"
   ]
  },
  {
   "cell_type": "code",
   "execution_count": 5,
   "metadata": {},
   "outputs": [
    {
     "name": "stdout",
     "output_type": "stream",
     "text": [
      "\u001b[33mcode_executor_agent\u001b[0m (to code_writer_agent):\n",
      "\n",
      "请帮我查询一下上能电气股份有限公司的成立日期，同时请提供该公司的办公地点及联系方式。\n",
      "\n",
      "--------------------------------------------------------------------------------\n",
      "\u001b[33mcode_writer_agent\u001b[0m (to code_executor_agent):\n",
      "\n",
      "get_company_register\n",
      "```python\n",
      "tool_call(company_name=['上能电气股份有限公司'])\n",
      "```\n",
      "\n",
      "--------------------------------------------------------------------------------\n",
      "\u001b[31m\n",
      ">>>>>>>> EXECUTING CODE BLOCK (inferred language is python)...\u001b[0m\n",
      "\u001b[33mcode_executor_agent\u001b[0m (to code_writer_agent):\n",
      "\n",
      "exitcode: 1 (execution failed)\n",
      "Code output: Traceback (most recent call last):\n",
      "  File \"/Users/lta/Desktop/glm_law_comp/coding/tmp_code_1c2b8edda2c2bf9b4f72e2e7da8c88ec.py\", line 2, in <module>\n",
      "    tool_call(company_name=['上能电气股份有限公司'])\n",
      "NameError: name 'tool_call' is not defined\n",
      "代码中没有print函数，无法打印结果。\n",
      "请传入使用print打印结果的代码。\n",
      "\n",
      "--------------------------------------------------------------------------------\n",
      "\u001b[33mcode_writer_agent\u001b[0m (to code_executor_agent):\n",
      "\n",
      "get_company_info\n",
      "```python\n",
      "tool_call(company_name=['上能电气股份有限公司'])\n",
      "```\n",
      "\n",
      "--------------------------------------------------------------------------------\n",
      "\u001b[31m\n",
      ">>>>>>>> EXECUTING CODE BLOCK (inferred language is python)...\u001b[0m\n",
      "\u001b[33mcode_executor_agent\u001b[0m (to code_writer_agent):\n",
      "\n",
      "exitcode: 1 (execution failed)\n",
      "Code output: Traceback (most recent call last):\n",
      "  File \"/Users/lta/Desktop/glm_law_comp/coding/tmp_code_1c2b8edda2c2bf9b4f72e2e7da8c88ec.py\", line 2, in <module>\n",
      "    tool_call(company_name=['上能电气股份有限公司'])\n",
      "NameError: name 'tool_call' is not defined\n",
      "代码中没有print函数，无法打印结果。\n",
      "请传入使用print打印结果的代码。\n",
      "\n",
      "--------------------------------------------------------------------------------\n",
      "\u001b[33mcode_writer_agent\u001b[0m (to code_executor_agent):\n",
      "\n",
      "抱歉刚才的代码片段没有正确导入函数并使用print打印结果。下面是正确的代码片段：\n",
      "\n",
      "```python\n",
      "from functions import get_company_register, get_company_info\n",
      "\n",
      "# 查询成立日期和办公地点\n",
      "company_register_info = get_company_register(company_name=['上能电气股份有限公司'])\n",
      "company_info = get_company_info(company_name=['上能电气股份有限公司'])\n",
      "\n",
      "# 打印成立日期\n",
      "print(\"成立日期:\", company_register_info[0]['成立日期'])\n",
      "\n",
      "# 打印办公地点和联系方式\n",
      "print(\"办公地址:\", company_info[0]['办公地址'])\n",
      "print(\"联系电话:\", company_info[0]['联系电话'])\n",
      "```\n",
      "\n",
      "请使用上述代码片段来获取上能电气股份有限公司的成立日期、办公地点和联系方式。\n",
      "\n",
      "--------------------------------------------------------------------------------\n",
      "\u001b[31m\n",
      ">>>>>>>> EXECUTING CODE BLOCK (inferred language is python)...\u001b[0m\n",
      "\u001b[33mcode_executor_agent\u001b[0m (to code_writer_agent):\n",
      "\n",
      "exitcode: 0 (execution succeeded)\n",
      "Code output: 成立日期: 2012-03-30\n",
      "办公地址: 江苏省无锡市惠山区和惠路6号\n",
      "联系电话: 0510-83691198\n",
      "\n",
      "\n",
      "--------------------------------------------------------------------------------\n",
      "\u001b[33mcode_writer_agent\u001b[0m (to code_executor_agent):\n",
      "\n",
      "上能电气股份有限公司的成立日期是2012年3月30日。该公司的办公地址位于江苏省无锡市惠山区和惠路6号，联系电话是0510-83691198。\n",
      "\n",
      "--------------------------------------------------------------------------------\n",
      "\u001b[33mcode_executor_agent\u001b[0m (to code_writer_agent):\n",
      "\n",
      "请继续 如果所有的事情都已经做完，请只返回'TERMINATE'。\n",
      "\n",
      "--------------------------------------------------------------------------------\n",
      "\u001b[33mcode_writer_agent\u001b[0m (to code_executor_agent):\n",
      "\n",
      "TERMINATE\n",
      "\n",
      "--------------------------------------------------------------------------------\n"
     ]
    },
    {
     "data": {
      "text/plain": [
       "'上能电气股份有限公司的成立日期是2012年3月30日。该公司的办公地址位于江苏省无锡市惠山区和惠路6号，联系电话是0510-83691198。'"
      ]
     },
     "execution_count": 5,
     "metadata": {},
     "output_type": "execute_result"
    }
   ],
   "source": [
    "chat_result = code_executor_agent.initiate_chat(\n",
    "    code_writer_agent,\n",
    "    message=\"请帮我查询一下上能电气股份有限公司的成立日期，同时请提供该公司的办公地点及联系方式。\",\n",
    "    max_turns=8\n",
    ")\n",
    "chat_result.chat_history[-3]['content']"
   ]
  }
 ],
 "metadata": {
  "kernelspec": {
   "display_name": "law",
   "language": "python",
   "name": "python3"
  },
  "language_info": {
   "codemirror_mode": {
    "name": "ipython",
    "version": 3
   },
   "file_extension": ".py",
   "mimetype": "text/x-python",
   "name": "python",
   "nbconvert_exporter": "python",
   "pygments_lexer": "ipython3",
   "version": "3.10.14"
  }
 },
 "nbformat": 4,
 "nbformat_minor": 2
}
